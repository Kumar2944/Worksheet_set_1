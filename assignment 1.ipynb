{
 "cells": [
  {
   "cell_type": "code",
   "execution_count": null,
   "id": "2b1a40b5",
   "metadata": {},
   "outputs": [],
   "source": [
    "n=input(\"Enter the String:\").lower()\n",
    "s={}\n",
    "for i in n:\n",
    "if i in s:\n",
    "    s[i]+=1\n",
    "     else:\n",
    "     s[i]=1\n",
    "    print(s)"
   ]
  },
  {
   "cell_type": "code",
   "execution_count": null,
   "id": "687460eb",
   "metadata": {},
   "outputs": [],
   "source": [
    "# num = int (input(\"enter the number\"))\n",
    "factorial = 1\n",
    "if num < 0:\n",
    "    print (\"fatcorial dose not exist negitive number \")\n",
    "    elif num ==0\n",
    "    print(\" the fatcorial of 0 is 1 \")\n",
    "    else :\n",
    "        for i in range(1,num + 1):\n",
    "        factorial = factorial*i\n",
    "        print(\"The factorial of\",num,\"is\",factorial)\n",
    "    \n"
   ]
  },
  {
   "cell_type": "code",
   "execution_count": null,
   "id": "3d657cf2",
   "metadata": {},
   "outputs": [],
   "source": [
    "def isPalindrome(string):\n",
    "    if string==string[::-1]:\n",
    "        return \"Yes\"\n",
    "    else:\n",
    "        return \"No\"\n",
    "\n",
    "s1=\"LEVEL\"\n",
    "s2=\"Hello\"\n",
    "print(s1,\":\",isPalindrome(s1))\n",
    "print(s2,\":\",isPalindrome(s2))"
   ]
  },
  {
   "cell_type": "code",
   "execution_count": null,
   "id": "642e1643",
   "metadata": {},
   "outputs": [],
   "source": [
    "num = int(input(\"Enter any number : \"))\n",
    "if num > 1:\n",
    "    for i in range(2, num):\n",
    "        if (num % i) == 0:\n",
    "            print(num, \"is NOT a prime number\")\n",
    "            break\n",
    "    else:\n",
    "        print(num, \"is a PRIME number\")\n",
    "elif num == 0 or 1:\n",
    "    print(num, \"is a neither prime NOR composite number\")\n",
    "else:\n",
    "    print(num, \"is NOT a prime number it is a COMPOSITE number\")"
   ]
  },
  {
   "cell_type": "code",
   "execution_count": null,
   "id": "9a20bfd8",
   "metadata": {},
   "outputs": [],
   "source": []
  }
 ],
 "metadata": {
  "kernelspec": {
   "display_name": "Python 3 (ipykernel)",
   "language": "python",
   "name": "python3"
  },
  "language_info": {
   "codemirror_mode": {
    "name": "ipython",
    "version": 3
   },
   "file_extension": ".py",
   "mimetype": "text/x-python",
   "name": "python",
   "nbconvert_exporter": "python",
   "pygments_lexer": "ipython3",
   "version": "3.9.7"
  }
 },
 "nbformat": 4,
 "nbformat_minor": 5
}
